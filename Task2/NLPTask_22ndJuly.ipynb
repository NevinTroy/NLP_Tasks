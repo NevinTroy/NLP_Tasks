{
  "nbformat": 4,
  "nbformat_minor": 0,
  "metadata": {
    "colab": {
      "name": "NLPTask_22ndJuly.ipynb",
      "provenance": []
    },
    "kernelspec": {
      "name": "python3",
      "display_name": "Python 3"
    },
    "language_info": {
      "name": "python"
    }
  },
  "cells": [
    {
      "cell_type": "markdown",
      "source": [
        "### Stemmers "
      ],
      "metadata": {
        "id": "gZk4r0qYNktQ"
      }
    },
    {
      "cell_type": "code",
      "source": [
        "#Porter Stemmer\n",
        "import nltk\n",
        "from nltk.stem import PorterStemmer \n",
        "PS=PorterStemmer()\n",
        "PS.stem('manageable')"
      ],
      "metadata": {
        "colab": {
          "base_uri": "https://localhost:8080/",
          "height": 36
        },
        "id": "1BaXCqTaNrzv",
        "outputId": "8fc6ab46-c57c-4622-e662-bd0952e0aede"
      },
      "execution_count": 2,
      "outputs": [
        {
          "output_type": "execute_result",
          "data": {
            "text/plain": [
              "'manag'"
            ],
            "application/vnd.google.colaboratory.intrinsic+json": {
              "type": "string"
            }
          },
          "metadata": {},
          "execution_count": 2
        }
      ]
    },
    {
      "cell_type": "code",
      "source": [
        "#Lancaster Stemmer\n",
        "from nltk.stem import LancasterStemmer\n",
        "LS=LancasterStemmer()\n",
        "LS.stem('amazing')"
      ],
      "metadata": {
        "colab": {
          "base_uri": "https://localhost:8080/",
          "height": 36
        },
        "id": "wzNJhF0KOPk_",
        "outputId": "7e88ec25-ad97-4999-e57d-5cff6b995839"
      },
      "execution_count": 4,
      "outputs": [
        {
          "output_type": "execute_result",
          "data": {
            "text/plain": [
              "'amaz'"
            ],
            "application/vnd.google.colaboratory.intrinsic+json": {
              "type": "string"
            }
          },
          "metadata": {},
          "execution_count": 4
        }
      ]
    },
    {
      "cell_type": "code",
      "source": [
        "#Case where Porter Stemmer performed better than Lancaster\n",
        "print(PS.stem('gracefulness'))\n",
        "print(LS.stem('gracefulness'))"
      ],
      "metadata": {
        "colab": {
          "base_uri": "https://localhost:8080/"
        },
        "id": "39Ra8000Oj9T",
        "outputId": "9a4ae6a5-10de-4bde-992c-50c8520a88f4"
      },
      "execution_count": 6,
      "outputs": [
        {
          "output_type": "stream",
          "name": "stdout",
          "text": [
            "grace\n",
            "grac\n"
          ]
        }
      ]
    },
    {
      "cell_type": "code",
      "source": [
        "#Case where Lancaster Stemmer performed better than Porter\n",
        "print(PS.stem(''))"
      ],
      "metadata": {
        "id": "xbl-zkQ0O3Wr"
      },
      "execution_count": null,
      "outputs": []
    },
    {
      "cell_type": "code",
      "source": [
        "#Snowball Stemmer\n",
        "from nltk.stem import SnowballStemmer\n",
        "print(\" \".join(SnowballStemmer.languages))"
      ],
      "metadata": {
        "colab": {
          "base_uri": "https://localhost:8080/"
        },
        "id": "8LHhJ3NEPKUo",
        "outputId": "cb4fafee-92f0-4326-acfb-411fdb4daea4"
      },
      "execution_count": 8,
      "outputs": [
        {
          "output_type": "stream",
          "name": "stdout",
          "text": [
            "arabic danish dutch english finnish french german hungarian italian norwegian porter portuguese romanian russian spanish swedish\n"
          ]
        }
      ]
    },
    {
      "cell_type": "code",
      "source": [
        "#French \n",
        "SS=SnowballStemmer('french')\n",
        "print(SS.stem('en mangeant'))  ##this means eating and should return manger/mange"
      ],
      "metadata": {
        "colab": {
          "base_uri": "https://localhost:8080/"
        },
        "id": "AjEgleIRPf4x",
        "outputId": "2f496be4-9a15-452a-9947-2f1ed7e1a75a"
      },
      "execution_count": 11,
      "outputs": [
        {
          "output_type": "stream",
          "name": "stdout",
          "text": [
            "en mang\n"
          ]
        }
      ]
    },
    {
      "cell_type": "code",
      "source": [
        "#Arabic\n",
        "SS=SnowballStemmer('arabic')\n",
        "print(SS.stem('الكلب')) ##Al Kalb stands for the dog where Al is the suffix and it should return kalb"
      ],
      "metadata": {
        "colab": {
          "base_uri": "https://localhost:8080/"
        },
        "id": "2EGIOGgjQHck",
        "outputId": "bbda34b0-eb28-4cc2-a8a1-639c718b1998"
      },
      "execution_count": 13,
      "outputs": [
        {
          "output_type": "stream",
          "name": "stdout",
          "text": [
            "كلب\n"
          ]
        }
      ]
    },
    {
      "cell_type": "code",
      "source": [
        "#Spanish\n",
        "SS=SnowballStemmer('spanish')\n",
        "print(SS.stem('la mujer')) ##la is the prefix"
      ],
      "metadata": {
        "colab": {
          "base_uri": "https://localhost:8080/"
        },
        "id": "aj2Gq2oGQ6Ws",
        "outputId": "74431482-9e51-4efe-a1a0-354a28299bbc"
      },
      "execution_count": 16,
      "outputs": [
        {
          "output_type": "stream",
          "name": "stdout",
          "text": [
            "la muj\n"
          ]
        }
      ]
    },
    {
      "cell_type": "code",
      "source": [
        "#Regexp Stemmer\n",
        "from nltk.stem import RegexpStemmer\n",
        "RS=RegexpStemmer('ing')\n",
        "RS.stem('singing')"
      ],
      "metadata": {
        "colab": {
          "base_uri": "https://localhost:8080/",
          "height": 36
        },
        "id": "nT6SFbCmRRsL",
        "outputId": "f7bbaa6a-fdab-4f79-825c-a8fefcbdc0de"
      },
      "execution_count": 18,
      "outputs": [
        {
          "output_type": "execute_result",
          "data": {
            "text/plain": [
              "'s'"
            ],
            "application/vnd.google.colaboratory.intrinsic+json": {
              "type": "string"
            }
          },
          "metadata": {},
          "execution_count": 18
        }
      ]
    },
    {
      "cell_type": "code",
      "source": [
        "#Stemming a paragraph\n",
        "with open('/content/sample_data/NLPText.txt','r') as f:\n",
        "  contents=f.read()\n",
        "print(contents) "
      ],
      "metadata": {
        "colab": {
          "base_uri": "https://localhost:8080/"
        },
        "id": "h1breFdOR4UW",
        "outputId": "f328b496-3f70-446a-d3e5-e60b4dee224a"
      },
      "execution_count": 20,
      "outputs": [
        {
          "output_type": "stream",
          "name": "stdout",
          "text": [
            "Betty decided to write a short story and she was sure it was going to be amazing. She had already written it in her head and each time she thought about it she grinned from ear to ear knowing how wonderful it would be. She could imagine the accolades coming in and the praise she would receive for creating such a wonderful piece. She was therefore extremely frustrated when she actually sat down to write the short story and the story that was so beautiful inside her head refused to come out that way on paper.\n"
          ]
        }
      ]
    },
    {
      "cell_type": "code",
      "source": [
        "example=[LS.stem(token) for token in contents.split(\" \")]\n",
        "print(\" \".join(example))"
      ],
      "metadata": {
        "colab": {
          "base_uri": "https://localhost:8080/"
        },
        "id": "pr3rQh81S5Bt",
        "outputId": "21172bf1-1352-44cb-c2cd-ec7dac86f820"
      },
      "execution_count": 21,
      "outputs": [
        {
          "output_type": "stream",
          "name": "stdout",
          "text": [
            "betty decid to writ a short story and she was sur it was going to be amazing. she had already writ it in her head and each tim she thought about it she grin from ear to ear know how wond it would be. she could imagin the accolad com in and the pra she would receiv for cre such a wond piece. she was theref extrem frust when she act sat down to writ the short story and the story that was so beauty insid her head refus to com out that way on paper.\n"
          ]
        }
      ]
    },
    {
      "cell_type": "code",
      "source": [
        " nltk.download('wordnet')"
      ],
      "metadata": {
        "colab": {
          "base_uri": "https://localhost:8080/"
        },
        "id": "-sXIFJ1sUT2C",
        "outputId": "4f9791e6-d573-40d9-e5a2-8b953edbed74"
      },
      "execution_count": 23,
      "outputs": [
        {
          "output_type": "stream",
          "name": "stderr",
          "text": [
            "[nltk_data] Downloading package wordnet to /root/nltk_data...\n"
          ]
        },
        {
          "output_type": "execute_result",
          "data": {
            "text/plain": [
              "True"
            ]
          },
          "metadata": {},
          "execution_count": 23
        }
      ]
    },
    {
      "cell_type": "code",
      "source": [
        "nltk.download('omw-1.4')"
      ],
      "metadata": {
        "colab": {
          "base_uri": "https://localhost:8080/"
        },
        "id": "N4YTD0zXUirV",
        "outputId": "855c4d32-5c61-4e4d-fcf9-5848cd8c16de"
      },
      "execution_count": 25,
      "outputs": [
        {
          "output_type": "stream",
          "name": "stderr",
          "text": [
            "[nltk_data] Downloading package omw-1.4 to /root/nltk_data...\n"
          ]
        },
        {
          "output_type": "execute_result",
          "data": {
            "text/plain": [
              "True"
            ]
          },
          "metadata": {},
          "execution_count": 25
        }
      ]
    },
    {
      "cell_type": "code",
      "source": [
        "nltk.download('punkt')"
      ],
      "metadata": {
        "colab": {
          "base_uri": "https://localhost:8080/"
        },
        "id": "HwFJmMxxV8M9",
        "outputId": "6b1a54af-9006-4ab2-cfab-a7174d377aac"
      },
      "execution_count": 31,
      "outputs": [
        {
          "output_type": "stream",
          "name": "stderr",
          "text": [
            "[nltk_data] Downloading package punkt to /root/nltk_data...\n",
            "[nltk_data]   Unzipping tokenizers/punkt.zip.\n"
          ]
        },
        {
          "output_type": "execute_result",
          "data": {
            "text/plain": [
              "True"
            ]
          },
          "metadata": {},
          "execution_count": 31
        }
      ]
    },
    {
      "cell_type": "code",
      "source": [
        "nltk.download('averaged_perceptron_tagger')"
      ],
      "metadata": {
        "colab": {
          "base_uri": "https://localhost:8080/"
        },
        "id": "SjD8yOktWDzh",
        "outputId": "7350c2f1-202e-49a0-dace-de0ac91015a3"
      },
      "execution_count": 33,
      "outputs": [
        {
          "output_type": "stream",
          "name": "stderr",
          "text": [
            "[nltk_data] Downloading package averaged_perceptron_tagger to\n",
            "[nltk_data]     /root/nltk_data...\n",
            "[nltk_data]   Unzipping taggers/averaged_perceptron_tagger.zip.\n"
          ]
        },
        {
          "output_type": "execute_result",
          "data": {
            "text/plain": [
              "True"
            ]
          },
          "metadata": {},
          "execution_count": 33
        }
      ]
    },
    {
      "cell_type": "code",
      "source": [
        "#Lemmatization\n",
        "from nltk.stem import WordNetLemmatizer\n",
        "WNL=WordNetLemmatizer()\n",
        "print(WNL.lemmatize('cacti'))\n",
        "print(WNL.lemmatize('formulae'))\n",
        "print(WNL.lemmatize('better',pos='a'))\n",
        "print(WNL.lemmatize('theses'))"
      ],
      "metadata": {
        "colab": {
          "base_uri": "https://localhost:8080/"
        },
        "id": "Zh-qcnkDTMsA",
        "outputId": "ac323867-bcab-454b-854c-a4511358e444"
      },
      "execution_count": 26,
      "outputs": [
        {
          "output_type": "stream",
          "name": "stdout",
          "text": [
            "cactus\n",
            "formula\n",
            "good\n",
            "thesis\n"
          ]
        }
      ]
    },
    {
      "cell_type": "code",
      "source": [
        "!pip install jieba"
      ],
      "metadata": {
        "colab": {
          "base_uri": "https://localhost:8080/"
        },
        "id": "yq-HzVDNUopR",
        "outputId": "12e1e2ed-91cd-4a68-dace-e05a3275bb56"
      },
      "execution_count": 27,
      "outputs": [
        {
          "output_type": "stream",
          "name": "stdout",
          "text": [
            "Looking in indexes: https://pypi.org/simple, https://us-python.pkg.dev/colab-wheels/public/simple/\n",
            "Requirement already satisfied: jieba in /usr/local/lib/python3.7/dist-packages (0.42.1)\n"
          ]
        }
      ]
    },
    {
      "cell_type": "code",
      "source": [
        "import jieba\n",
        "seg=jieba.cut(\"我来到北京清华大学\")\n",
        "print(\" \".join(seg))"
      ],
      "metadata": {
        "colab": {
          "base_uri": "https://localhost:8080/"
        },
        "id": "cD1-uMcLUtdM",
        "outputId": "6945bdcf-24a0-4830-a4a2-60d19ca9b7de"
      },
      "execution_count": 29,
      "outputs": [
        {
          "output_type": "stream",
          "name": "stdout",
          "text": [
            "我 来到 北京 清华大学\n"
          ]
        }
      ]
    },
    {
      "cell_type": "code",
      "source": [
        "#Tokenization\n",
        "texts=\"Betty decided to write a short story and she was sure it was going to be amazing. She had already written it in her head and each time she thought about it she grinned from ear to ear knowing how wonderful it would be. She could imagine the accolades coming in and the praise she would receive for creating such a wonderful piece. She was therefore extremely frustrated when she actually sat down to write the short story and the story that was so beautiful inside her head refused to come out that way on paper.\"\n",
        "\n",
        "for text in texts:\n",
        "  sentences=nltk.sent_tokenize(text)\n",
        "  for sentence in sentences:\n",
        "    words=nltk.word_tokenize(sentence)\n",
        "    tagged=nltk.pos_tag(words)\n",
        "    print(tagged)"
      ],
      "metadata": {
        "colab": {
          "base_uri": "https://localhost:8080/"
        },
        "id": "3-7EngYrVf9M",
        "outputId": "9584c5f2-8f92-4470-cfb2-5ed6582abdfb"
      },
      "execution_count": 45,
      "outputs": [
        {
          "output_type": "stream",
          "name": "stdout",
          "text": [
            "[('B', 'NN')]\n",
            "[('e', 'NN')]\n",
            "[('t', 'NN')]\n",
            "[('t', 'NN')]\n",
            "[('y', 'NN')]\n",
            "[('d', 'NN')]\n",
            "[('e', 'NN')]\n",
            "[('c', 'NNS')]\n",
            "[('i', 'NN')]\n",
            "[('d', 'NN')]\n",
            "[('e', 'NN')]\n",
            "[('d', 'NN')]\n",
            "[('t', 'NN')]\n",
            "[('o', 'NN')]\n",
            "[('w', 'NN')]\n",
            "[('r', 'NN')]\n",
            "[('i', 'NN')]\n",
            "[('t', 'NN')]\n",
            "[('e', 'NN')]\n",
            "[('a', 'DT')]\n",
            "[('s', 'NN')]\n",
            "[('h', 'NN')]\n",
            "[('o', 'NN')]\n",
            "[('r', 'NN')]\n",
            "[('t', 'NN')]\n",
            "[('s', 'NN')]\n",
            "[('t', 'NN')]\n",
            "[('o', 'NN')]\n",
            "[('r', 'NN')]\n",
            "[('y', 'NN')]\n",
            "[('a', 'DT')]\n",
            "[('n', 'NN')]\n",
            "[('d', 'NN')]\n",
            "[('s', 'NN')]\n",
            "[('h', 'NN')]\n",
            "[('e', 'NN')]\n",
            "[('w', 'NN')]\n",
            "[('a', 'DT')]\n",
            "[('s', 'NN')]\n",
            "[('s', 'NN')]\n",
            "[('u', 'NN')]\n",
            "[('r', 'NN')]\n",
            "[('e', 'NN')]\n",
            "[('i', 'NN')]\n",
            "[('t', 'NN')]\n",
            "[('w', 'NN')]\n",
            "[('a', 'DT')]\n",
            "[('s', 'NN')]\n",
            "[('g', 'NN')]\n",
            "[('o', 'NN')]\n",
            "[('i', 'NN')]\n",
            "[('n', 'NN')]\n",
            "[('g', 'NN')]\n",
            "[('t', 'NN')]\n",
            "[('o', 'NN')]\n",
            "[('b', 'NN')]\n",
            "[('e', 'NN')]\n",
            "[('a', 'DT')]\n",
            "[('m', 'NN')]\n",
            "[('a', 'DT')]\n",
            "[('z', 'NN')]\n",
            "[('i', 'NN')]\n",
            "[('n', 'NN')]\n",
            "[('g', 'NN')]\n",
            "[('.', '.')]\n",
            "[('S', 'NN')]\n",
            "[('h', 'NN')]\n",
            "[('e', 'NN')]\n",
            "[('h', 'NN')]\n",
            "[('a', 'DT')]\n",
            "[('d', 'NN')]\n",
            "[('a', 'DT')]\n",
            "[('l', 'NN')]\n",
            "[('r', 'NN')]\n",
            "[('e', 'NN')]\n",
            "[('a', 'DT')]\n",
            "[('d', 'NN')]\n",
            "[('y', 'NN')]\n",
            "[('w', 'NN')]\n",
            "[('r', 'NN')]\n",
            "[('i', 'NN')]\n",
            "[('t', 'NN')]\n",
            "[('t', 'NN')]\n",
            "[('e', 'NN')]\n",
            "[('n', 'NN')]\n",
            "[('i', 'NN')]\n",
            "[('t', 'NN')]\n",
            "[('i', 'NN')]\n",
            "[('n', 'NN')]\n",
            "[('h', 'NN')]\n",
            "[('e', 'NN')]\n",
            "[('r', 'NN')]\n",
            "[('h', 'NN')]\n",
            "[('e', 'NN')]\n",
            "[('a', 'DT')]\n",
            "[('d', 'NN')]\n",
            "[('a', 'DT')]\n",
            "[('n', 'NN')]\n",
            "[('d', 'NN')]\n",
            "[('e', 'NN')]\n",
            "[('a', 'DT')]\n",
            "[('c', 'NNS')]\n",
            "[('h', 'NN')]\n",
            "[('t', 'NN')]\n",
            "[('i', 'NN')]\n",
            "[('m', 'NN')]\n",
            "[('e', 'NN')]\n",
            "[('s', 'NN')]\n",
            "[('h', 'NN')]\n",
            "[('e', 'NN')]\n",
            "[('t', 'NN')]\n",
            "[('h', 'NN')]\n",
            "[('o', 'NN')]\n",
            "[('u', 'NN')]\n",
            "[('g', 'NN')]\n",
            "[('h', 'NN')]\n",
            "[('t', 'NN')]\n",
            "[('a', 'DT')]\n",
            "[('b', 'NN')]\n",
            "[('o', 'NN')]\n",
            "[('u', 'NN')]\n",
            "[('t', 'NN')]\n",
            "[('i', 'NN')]\n",
            "[('t', 'NN')]\n",
            "[('s', 'NN')]\n",
            "[('h', 'NN')]\n",
            "[('e', 'NN')]\n",
            "[('g', 'NN')]\n",
            "[('r', 'NN')]\n",
            "[('i', 'NN')]\n",
            "[('n', 'NN')]\n",
            "[('n', 'NN')]\n",
            "[('e', 'NN')]\n",
            "[('d', 'NN')]\n",
            "[('f', 'NN')]\n",
            "[('r', 'NN')]\n",
            "[('o', 'NN')]\n",
            "[('m', 'NN')]\n",
            "[('e', 'NN')]\n",
            "[('a', 'DT')]\n",
            "[('r', 'NN')]\n",
            "[('t', 'NN')]\n",
            "[('o', 'NN')]\n",
            "[('e', 'NN')]\n",
            "[('a', 'DT')]\n",
            "[('r', 'NN')]\n",
            "[('k', 'NN')]\n",
            "[('n', 'NN')]\n",
            "[('o', 'NN')]\n",
            "[('w', 'NN')]\n",
            "[('i', 'NN')]\n",
            "[('n', 'NN')]\n",
            "[('g', 'NN')]\n",
            "[('h', 'NN')]\n",
            "[('o', 'NN')]\n",
            "[('w', 'NN')]\n",
            "[('w', 'NN')]\n",
            "[('o', 'NN')]\n",
            "[('n', 'NN')]\n",
            "[('d', 'NN')]\n",
            "[('e', 'NN')]\n",
            "[('r', 'NN')]\n",
            "[('f', 'NN')]\n",
            "[('u', 'NN')]\n",
            "[('l', 'NN')]\n",
            "[('i', 'NN')]\n",
            "[('t', 'NN')]\n",
            "[('w', 'NN')]\n",
            "[('o', 'NN')]\n",
            "[('u', 'NN')]\n",
            "[('l', 'NN')]\n",
            "[('d', 'NN')]\n",
            "[('b', 'NN')]\n",
            "[('e', 'NN')]\n",
            "[('.', '.')]\n",
            "[('S', 'NN')]\n",
            "[('h', 'NN')]\n",
            "[('e', 'NN')]\n",
            "[('c', 'NNS')]\n",
            "[('o', 'NN')]\n",
            "[('u', 'NN')]\n",
            "[('l', 'NN')]\n",
            "[('d', 'NN')]\n",
            "[('i', 'NN')]\n",
            "[('m', 'NN')]\n",
            "[('a', 'DT')]\n",
            "[('g', 'NN')]\n",
            "[('i', 'NN')]\n",
            "[('n', 'NN')]\n",
            "[('e', 'NN')]\n",
            "[('t', 'NN')]\n",
            "[('h', 'NN')]\n",
            "[('e', 'NN')]\n",
            "[('a', 'DT')]\n",
            "[('c', 'NNS')]\n",
            "[('c', 'NNS')]\n",
            "[('o', 'NN')]\n",
            "[('l', 'NN')]\n",
            "[('a', 'DT')]\n",
            "[('d', 'NN')]\n",
            "[('e', 'NN')]\n",
            "[('s', 'NN')]\n",
            "[('c', 'NNS')]\n",
            "[('o', 'NN')]\n",
            "[('m', 'NN')]\n",
            "[('i', 'NN')]\n",
            "[('n', 'NN')]\n",
            "[('g', 'NN')]\n",
            "[('i', 'NN')]\n",
            "[('n', 'NN')]\n",
            "[('a', 'DT')]\n",
            "[('n', 'NN')]\n",
            "[('d', 'NN')]\n",
            "[('t', 'NN')]\n",
            "[('h', 'NN')]\n",
            "[('e', 'NN')]\n",
            "[('p', 'NN')]\n",
            "[('r', 'NN')]\n",
            "[('a', 'DT')]\n",
            "[('i', 'NN')]\n",
            "[('s', 'NN')]\n",
            "[('e', 'NN')]\n",
            "[('s', 'NN')]\n",
            "[('h', 'NN')]\n",
            "[('e', 'NN')]\n",
            "[('w', 'NN')]\n",
            "[('o', 'NN')]\n",
            "[('u', 'NN')]\n",
            "[('l', 'NN')]\n",
            "[('d', 'NN')]\n",
            "[('r', 'NN')]\n",
            "[('e', 'NN')]\n",
            "[('c', 'NNS')]\n",
            "[('e', 'NN')]\n",
            "[('i', 'NN')]\n",
            "[('v', 'NN')]\n",
            "[('e', 'NN')]\n",
            "[('f', 'NN')]\n",
            "[('o', 'NN')]\n",
            "[('r', 'NN')]\n",
            "[('c', 'NNS')]\n",
            "[('r', 'NN')]\n",
            "[('e', 'NN')]\n",
            "[('a', 'DT')]\n",
            "[('t', 'NN')]\n",
            "[('i', 'NN')]\n",
            "[('n', 'NN')]\n",
            "[('g', 'NN')]\n",
            "[('s', 'NN')]\n",
            "[('u', 'NN')]\n",
            "[('c', 'NNS')]\n",
            "[('h', 'NN')]\n",
            "[('a', 'DT')]\n",
            "[('w', 'NN')]\n",
            "[('o', 'NN')]\n",
            "[('n', 'NN')]\n",
            "[('d', 'NN')]\n",
            "[('e', 'NN')]\n",
            "[('r', 'NN')]\n",
            "[('f', 'NN')]\n",
            "[('u', 'NN')]\n",
            "[('l', 'NN')]\n",
            "[('p', 'NN')]\n",
            "[('i', 'NN')]\n",
            "[('e', 'NN')]\n",
            "[('c', 'NNS')]\n",
            "[('e', 'NN')]\n",
            "[('.', '.')]\n",
            "[('S', 'NN')]\n",
            "[('h', 'NN')]\n",
            "[('e', 'NN')]\n",
            "[('w', 'NN')]\n",
            "[('a', 'DT')]\n",
            "[('s', 'NN')]\n",
            "[('t', 'NN')]\n",
            "[('h', 'NN')]\n",
            "[('e', 'NN')]\n",
            "[('r', 'NN')]\n",
            "[('e', 'NN')]\n",
            "[('f', 'NN')]\n",
            "[('o', 'NN')]\n",
            "[('r', 'NN')]\n",
            "[('e', 'NN')]\n",
            "[('e', 'NN')]\n",
            "[('x', 'NN')]\n",
            "[('t', 'NN')]\n",
            "[('r', 'NN')]\n",
            "[('e', 'NN')]\n",
            "[('m', 'NN')]\n",
            "[('e', 'NN')]\n",
            "[('l', 'NN')]\n",
            "[('y', 'NN')]\n",
            "[('f', 'NN')]\n",
            "[('r', 'NN')]\n",
            "[('u', 'NN')]\n",
            "[('s', 'NN')]\n",
            "[('t', 'NN')]\n",
            "[('r', 'NN')]\n",
            "[('a', 'DT')]\n",
            "[('t', 'NN')]\n",
            "[('e', 'NN')]\n",
            "[('d', 'NN')]\n",
            "[('w', 'NN')]\n",
            "[('h', 'NN')]\n",
            "[('e', 'NN')]\n",
            "[('n', 'NN')]\n",
            "[('s', 'NN')]\n",
            "[('h', 'NN')]\n",
            "[('e', 'NN')]\n",
            "[('a', 'DT')]\n",
            "[('c', 'NNS')]\n",
            "[('t', 'NN')]\n",
            "[('u', 'NN')]\n",
            "[('a', 'DT')]\n",
            "[('l', 'NN')]\n",
            "[('l', 'NN')]\n",
            "[('y', 'NN')]\n",
            "[('s', 'NN')]\n",
            "[('a', 'DT')]\n",
            "[('t', 'NN')]\n",
            "[('d', 'NN')]\n",
            "[('o', 'NN')]\n",
            "[('w', 'NN')]\n",
            "[('n', 'NN')]\n",
            "[('t', 'NN')]\n",
            "[('o', 'NN')]\n",
            "[('w', 'NN')]\n",
            "[('r', 'NN')]\n",
            "[('i', 'NN')]\n",
            "[('t', 'NN')]\n",
            "[('e', 'NN')]\n",
            "[('t', 'NN')]\n",
            "[('h', 'NN')]\n",
            "[('e', 'NN')]\n",
            "[('s', 'NN')]\n",
            "[('h', 'NN')]\n",
            "[('o', 'NN')]\n",
            "[('r', 'NN')]\n",
            "[('t', 'NN')]\n",
            "[('s', 'NN')]\n",
            "[('t', 'NN')]\n",
            "[('o', 'NN')]\n",
            "[('r', 'NN')]\n",
            "[('y', 'NN')]\n",
            "[('a', 'DT')]\n",
            "[('n', 'NN')]\n",
            "[('d', 'NN')]\n",
            "[('t', 'NN')]\n",
            "[('h', 'NN')]\n",
            "[('e', 'NN')]\n",
            "[('s', 'NN')]\n",
            "[('t', 'NN')]\n",
            "[('o', 'NN')]\n",
            "[('r', 'NN')]\n",
            "[('y', 'NN')]\n",
            "[('t', 'NN')]\n",
            "[('h', 'NN')]\n",
            "[('a', 'DT')]\n",
            "[('t', 'NN')]\n",
            "[('w', 'NN')]\n",
            "[('a', 'DT')]\n",
            "[('s', 'NN')]\n",
            "[('s', 'NN')]\n",
            "[('o', 'NN')]\n",
            "[('b', 'NN')]\n",
            "[('e', 'NN')]\n",
            "[('a', 'DT')]\n",
            "[('u', 'NN')]\n",
            "[('t', 'NN')]\n",
            "[('i', 'NN')]\n",
            "[('f', 'NN')]\n",
            "[('u', 'NN')]\n",
            "[('l', 'NN')]\n",
            "[('i', 'NN')]\n",
            "[('n', 'NN')]\n",
            "[('s', 'NN')]\n",
            "[('i', 'NN')]\n",
            "[('d', 'NN')]\n",
            "[('e', 'NN')]\n",
            "[('h', 'NN')]\n",
            "[('e', 'NN')]\n",
            "[('r', 'NN')]\n",
            "[('h', 'NN')]\n",
            "[('e', 'NN')]\n",
            "[('a', 'DT')]\n",
            "[('d', 'NN')]\n",
            "[('r', 'NN')]\n",
            "[('e', 'NN')]\n",
            "[('f', 'NN')]\n",
            "[('u', 'NN')]\n",
            "[('s', 'NN')]\n",
            "[('e', 'NN')]\n",
            "[('d', 'NN')]\n",
            "[('t', 'NN')]\n",
            "[('o', 'NN')]\n",
            "[('c', 'NNS')]\n",
            "[('o', 'NN')]\n",
            "[('m', 'NN')]\n",
            "[('e', 'NN')]\n",
            "[('o', 'NN')]\n",
            "[('u', 'NN')]\n",
            "[('t', 'NN')]\n",
            "[('t', 'NN')]\n",
            "[('h', 'NN')]\n",
            "[('a', 'DT')]\n",
            "[('t', 'NN')]\n",
            "[('w', 'NN')]\n",
            "[('a', 'DT')]\n",
            "[('y', 'NN')]\n",
            "[('o', 'NN')]\n",
            "[('n', 'NN')]\n",
            "[('p', 'NN')]\n",
            "[('a', 'DT')]\n",
            "[('p', 'NN')]\n",
            "[('e', 'NN')]\n",
            "[('r', 'NN')]\n",
            "[('.', '.')]\n"
          ]
        }
      ]
    }
  ]
}